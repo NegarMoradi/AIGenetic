{
 "cells": [
  {
   "cell_type": "markdown",
   "id": "7a2d45ef",
   "metadata": {},
   "source": [
    "# Computer Assignment 2"
   ]
  },
  {
   "cell_type": "markdown",
   "id": "f1369a05",
   "metadata": {},
   "source": [
    "Negar Moradi 810198543\n",
    "    "
   ]
  },
  {
   "cell_type": "markdown",
   "id": "aadd0853",
   "metadata": {},
   "source": [
    "## Introduction"
   ]
  },
  {
   "cell_type": "markdown",
   "id": "e4d85747",
   "metadata": {},
   "source": [
    "In this computer assignment, we used genetic algorithm to solve our problem. <br>\n",
    "This algorithm reflects the process of natural selection where the fittest individuals are selected for reproduction in order to produce offspring of the next generation."
   ]
  },
  {
   "cell_type": "markdown",
   "id": "16bfbae1",
   "metadata": {},
   "source": [
    "#### Defines and hyperparameters"
   ]
  },
  {
   "cell_type": "code",
   "execution_count": 1,
   "id": "361df978",
   "metadata": {},
   "outputs": [],
   "source": [
    "import random\n",
    "import time\n",
    "\n",
    "board = []\n",
    "\n",
    "TABLE_LENGTH = 9\n",
    "ZERO = 0\n",
    "MAX_REP = 20\n",
    "MAX_SCORE = 243\n",
    "\n",
    "\n",
    "#hyper parameters\n",
    "POPULATION_SIZE = 1000\n",
    "SELECTION_PROBABALITY = 0.7\n",
    "PC = 0.8\n",
    "PM = 0.1\n",
    "\n"
   ]
  },
  {
   "cell_type": "markdown",
   "id": "21a53fe7",
   "metadata": {},
   "source": [
    "### getInput function"
   ]
  },
  {
   "cell_type": "code",
   "execution_count": 2,
   "id": "266bdde5",
   "metadata": {},
   "outputs": [],
   "source": [
    "\n",
    "def getInput(fileName):\n",
    "    \n",
    "    file = open(fileName, \"r\")\n",
    "    \n",
    "    for i in range(TABLE_LENGTH):\n",
    "        row = list(map(int, file.readline().split(' ')))\n",
    "        board.append(row)\n",
    "\n",
    "        "
   ]
  },
  {
   "cell_type": "markdown",
   "id": "73e9e27d",
   "metadata": {},
   "source": [
    "Using this function, we open the fable test and create our table."
   ]
  },
  {
   "cell_type": "markdown",
   "id": "b1e5c850",
   "metadata": {},
   "source": [
    "## Methods"
   ]
  },
  {
   "cell_type": "markdown",
   "id": "2fc53fa8",
   "metadata": {},
   "source": [
    "### Gene\n",
    "\n",
    "Each box in a table represents a gene in our problem. <br>\n",
    "In a table, each box represents a gene in our problem. <br>\n",
    "The values of the boxes can range from 0 to 9 (unknown values are 0)"
   ]
  },
  {
   "cell_type": "markdown",
   "id": "baeb0ad0",
   "metadata": {},
   "source": [
    "### Chromosome\n",
    "\n",
    "Each chromosome is a 9x9 table. <br>\n",
    "Each chromosome represents a solution to problem. <br>\n",
    "A chromosome, which is a table, is made up of genes that are boxes."
   ]
  },
  {
   "cell_type": "markdown",
   "id": "200b4eed",
   "metadata": {},
   "source": [
    "### Initial Population"
   ]
  },
  {
   "cell_type": "code",
   "execution_count": 3,
   "id": "fd0f031b",
   "metadata": {},
   "outputs": [],
   "source": [
    "#create chromosome\n",
    "\n",
    "def calRandomNumb(allNumb, chromosome, i ,j):\n",
    "    \n",
    "    while(1):\n",
    "        randomNumb = random.choice(allNumb)\n",
    "        if(randomNumb in chromosome[i]):\n",
    "            allNumb.remove(randomNumb)\n",
    "        else:\n",
    "            chromosome[i][j] = randomNumb\n",
    "            allNumb.remove(randomNumb)\n",
    "            return chromosome\n",
    "        \n",
    "    return chromosome\n",
    "    \n",
    "    \n",
    "#  intial population of solutions\n",
    "def initialPopulation():  \n",
    "    \n",
    "    population = []\n",
    "    \n",
    "    for i in range(POPULATION_SIZE):\n",
    "        chromosome = []\n",
    "        for i in range(TABLE_LENGTH):\n",
    "            chromosome.append(list(board[i]))\n",
    "            allNumb = [1, 2, 3, 4, 5, 6, 7, 8, 9]\n",
    "            for j in range(TABLE_LENGTH):\n",
    "                if(chromosome[i][j] == ZERO): \n",
    "                    chromosome = calRandomNumb(allNumb, chromosome, i, j)\n",
    "\n",
    "        \n",
    "        population.append(chromosome)\n",
    "    \n",
    "    return population\n",
    "        \n",
    "                            \n"
   ]
  },
  {
   "cell_type": "markdown",
   "id": "961e3d1c",
   "metadata": {},
   "source": [
    "In this step we created the initial population. <br>\n",
    "The process begins with a set of individuals which is called a Population. Each individual is a solution to the problem you want to solve. <br>\n",
    "The primary population is a set of randomly generated chromosomes. <br>\n",
    "For faster conclusions, each row of chromosomes in the initial population contains a unique number between 1 and 9. <br>"
   ]
  },
  {
   "cell_type": "markdown",
   "id": "5329c9d3",
   "metadata": {},
   "source": [
    "### Fitness Function"
   ]
  },
  {
   "cell_type": "code",
   "execution_count": 4,
   "id": "10af3560",
   "metadata": {},
   "outputs": [],
   "source": [
    "        \n",
    "def fitnessFunc(table):\n",
    "    \n",
    "    score = 0\n",
    "    \n",
    "    #unique elements in each row\n",
    "    \n",
    "    for i in range(int(TABLE_LENGTH)):\n",
    "        unique = []\n",
    "        for j in range(int(TABLE_LENGTH)):\n",
    "            unique.append(table[i][j])\n",
    "        \n",
    "        for k in range(TABLE_LENGTH):\n",
    "            if(unique[k] not in unique[k+1 :]):\n",
    "                score = score + 1\n",
    "\n",
    "    #unique element in each column\n",
    "    \n",
    "    for i in range(TABLE_LENGTH):\n",
    "        unique = []\n",
    "        for j in range(TABLE_LENGTH):\n",
    "            unique.append(table[j][i])\n",
    "        \n",
    "        for k in range(TABLE_LENGTH):\n",
    "            if(unique[k] not in unique[k+1 :]):\n",
    "                score = score + 1\n",
    "            \n",
    "            \n",
    "    #unique element in each 3x3 box\n",
    "    \n",
    "    for i in range(0, 9, 3):\n",
    "        for j in range(0, 9, 3):\n",
    "            unique = []\n",
    "            unique.append(table[i][j])\n",
    "            unique.append(table[i+1][j])\n",
    "            unique.append(table[i+2][j])\n",
    "            unique.append(table[i][j+1])\n",
    "            unique.append(table[i][j+2])\n",
    "            unique.append(table[i+1][j+1])\n",
    "            unique.append(table[i+2][j+2])\n",
    "            unique.append(table[i+2][j+1])\n",
    "            unique.append(table[i+1][j+2])\n",
    "            \n",
    "            for k in range(TABLE_LENGTH):\n",
    "                if(unique[k] not in unique[k + 1 :]):\n",
    "                    score = score + 1\n",
    "                \n",
    "    #max score 243\n",
    "    \n",
    "    if(score == MAX_SCORE):\n",
    "        print_table(table)\n",
    "    \n",
    "    return score\n",
    "     \n",
    "    \n",
    "# calculate the fntness of each solution\n",
    "def calFitnessPopulation(population):\n",
    "  \n",
    "    fitnesses = []\n",
    "        \n",
    "    for fitness in population:\n",
    "        fitcalc = fitnessFunc(fitness)\n",
    "        fitnesses.append(fitcalc)\n",
    "        if(fitcalc == MAX_SCORE):\n",
    "            return fitnesses\n",
    "        \n",
    "    return fitnesses\n",
    "       \n",
    "   "
   ]
  },
  {
   "cell_type": "markdown",
   "id": "361a2e02",
   "metadata": {},
   "source": [
    "The process begins with a set of individuals which is called a Population. Each individual is a solution to the problem you want to solve. <br>\n",
    "For each chromosome, the calFitnessPopulation function calculates its fitness using the fitnessFunc function. <br>\n",
    "fitnessFunc calculates fitness for each individual as follows: <br>\n",
    "Add unique numbers in rows, columns, and boxes 3x3.<br>\n",
    "The maximum score is 243!(Solution) <br>"
   ]
  },
  {
   "cell_type": "markdown",
   "id": "4d272578",
   "metadata": {},
   "source": [
    "### Selection"
   ]
  },
  {
   "cell_type": "code",
   "execution_count": 5,
   "id": "4ce8e36b",
   "metadata": {},
   "outputs": [],
   "source": [
    "# select parents\n",
    "def selection(population , fitnessPopulation):\n",
    "    \n",
    "    tableAndFitness = []\n",
    "    for i in range(POPULATION_SIZE):\n",
    "        tableAndFitness.append(tuple([i, fitnessPopulation[i]]))\n",
    "        \n",
    "    tableAndFitness = sorted(tableAndFitness, key=lambda  fitn: fitn[1])\n",
    "    select = tableAndFitness[int(POPULATION_SIZE - POPULATION_SIZE * SELECTION_PROBABALITY) :]\n",
    "    indexOfSelectedF = [tableF[0] for tableF in select]\n",
    "    \n",
    "    return [population[i] for i in indexOfSelectedF]"
   ]
  },
  {
   "cell_type": "markdown",
   "id": "8ba784a1",
   "metadata": {},
   "source": [
    "The idea of selection phase is to select the fittest individuals and let them pass their genes to the next generation.<br>\n",
    "Two pairs of individuals (parents) are selected based on their fitness scores. Individuals with high fitness have more chance to be selected for reproduction. <br>\n",
    "First, we sort the answers based on their fitness, then we select SELECTION_PROBABALITY numbers from the population of answers.<br>"
   ]
  },
  {
   "cell_type": "markdown",
   "id": "ce21e904",
   "metadata": {},
   "source": [
    "### Mutation\n",
    "\n"
   ]
  },
  {
   "cell_type": "code",
   "execution_count": 6,
   "id": "644712f2",
   "metadata": {},
   "outputs": [],
   "source": [
    "def calmutate(board, calmut, i):\n",
    "    \n",
    "    while(True):\n",
    "        rand1 = random.randint(0, 8)\n",
    "        rand2 = random.randint(0, 8)\n",
    "        while(rand1 == rand2):\n",
    "            rand1 = random.randint(0, 8)\n",
    "            rand2 = random.randint(0, 8)\n",
    "        if(board[i][rand1] == ZERO and board[i][rand2] == ZERO):\n",
    "            calmut[i][rand1], calmut[i][rand2] = calmut[i][rand2],  calmut[i][rand1]\n",
    "            break\n",
    "    return calmut\n",
    "    \n",
    "def mutation(population):\n",
    "    \n",
    "    mutate = []\n",
    "    \n",
    "    for i in range(int(POPULATION_SIZE)):\n",
    "        calmut = population[i]\n",
    "        for i in range(TABLE_LENGTH):\n",
    "            randomp = random.random()\n",
    "            if(randomp < PM):\n",
    "                calmut = calmutate(board, calmut, i)\n",
    "                \n",
    "        mutate.append(list(calmut))\n",
    "    \n",
    "    return mutate\n"
   ]
  },
  {
   "cell_type": "markdown",
   "id": "fd9eeb87",
   "metadata": {},
   "source": [
    "In certain new offspring formed, some of their genes can be subjected to a mutation with a low random probability. This implies that some of the bits in the bit string can be flipped. <br>\n",
    "Mutation occurs to maintain diversity within the population and prevent premature convergence. <br>\n",
    "Every box on a single chromosome is mutated with a probability of PM. <br>\n",
    "In order to get the answer faster, we only do the mutation for boxes that are 0."
   ]
  },
  {
   "cell_type": "markdown",
   "id": "64eeaf7c",
   "metadata": {},
   "source": [
    "### Crossover"
   ]
  },
  {
   "cell_type": "code",
   "execution_count": 7,
   "id": "d6309fd8",
   "metadata": {},
   "outputs": [],
   "source": [
    "    \n",
    "def crossover(population):\n",
    "    \n",
    "    crossoverList = []\n",
    "    cSize = int(POPULATION_SIZE *PC)\n",
    "    for i in range(cSize):\n",
    "        cross = []\n",
    "        for line in zip(random.choice(population[len(population) - cSize :]), random.choice(population[len(population) - cSize:])):\n",
    "            cross.append(list(random.choice(line)))\n",
    "        crossoverList.append(cross)\n",
    "        \n",
    "    for i in range (POPULATION_SIZE - cSize):\n",
    "        crossoverList.append(population[i])\n",
    "        \n",
    "            \n",
    "    return crossoverList\n",
    "\n"
   ]
  },
  {
   "cell_type": "markdown",
   "id": "63aa44f1",
   "metadata": {},
   "source": [
    "Crossover is the most significant phase in a genetic algorithm. For each pair of parents to be mated, a crossover point is chosen at random from within the genes.<br>\n",
    "We used uniform crossover to implement the crossover. <br>\n",
    "In uniform crossover, typically, each bit is chosen from either parent with equal probability."
   ]
  },
  {
   "cell_type": "markdown",
   "id": "c4bb4a14",
   "metadata": {},
   "source": [
    "### Solve function"
   ]
  },
  {
   "cell_type": "code",
   "execution_count": 8,
   "id": "6f59c7f8",
   "metadata": {},
   "outputs": [],
   "source": [
    "def solve(fileName):\n",
    "    \n",
    "    # global Pc\n",
    "    # global Pm\n",
    "    \n",
    "    getInput(fileName)\n",
    "    population = initialPopulation()\n",
    "    fitnesses = calFitnessPopulation(population)\n",
    "        \n",
    "    flag = 0\n",
    "    generation = 0\n",
    "    \n",
    "    while(generation <= 10000):\n",
    "        \n",
    "        lastfits = sorted(fitnesses, reverse=True)[0]\n",
    "        if(lastfits == MAX_SCORE):\n",
    "            score = sorted(fitnesses, reverse=True)[0]\n",
    "            print(\"Gen:\", generation, \"Score:\", score)\n",
    "            break\n",
    "        cParents = selection(population, fitnesses)\n",
    "        cross = crossover(cParents)\n",
    "        population = mutation(cross)\n",
    "        fitnesses = calFitnessPopulation(population)\n",
    "        score = sorted(fitnesses, reverse=True)[0]\n",
    "        if(score == MAX_SCORE):\n",
    "            print(\"Gen:\", generation, \"Score:\", score)\n",
    "            break\n",
    "        newfit = sorted(fitnesses, reverse=True)[0]\n",
    "        \n",
    "        \n",
    "        if(newfit == lastfits):\n",
    "          #  Pc += 0.01\n",
    "          #  Pm += 0.01\n",
    "            flag += 1\n",
    "            if flag == MAX_REP:\n",
    "                population = initialPopulation()\n",
    "                fitnesses = calFitnessPopulation(population)\n",
    "                score = sorted(fitnesses, reverse=True)[0]\n",
    "                if score == MAX_SCORE:\n",
    "                    print(\"Gen:\", generation, \"Score:\", score)\n",
    "                    break\n",
    "                flag = 0\n",
    "                generation = 0\n",
    "        \n",
    "        else:\n",
    "            flag = 0\n",
    "        \n",
    "        generation = generation + 1\n",
    "       \n"
   ]
  },
  {
   "cell_type": "markdown",
   "id": "614cff3f",
   "metadata": {},
   "source": [
    "We can get the answer in a loop by repeating the following commands:\n",
    "    \n",
    "    select\n",
    "    crossover\n",
    "    mutation\n",
    "    check answer\n",
    "    \n",
    "If we see the same score in each series, we will reset the program.\n",
    "    "
   ]
  },
  {
   "cell_type": "markdown",
   "id": "276b0d34",
   "metadata": {},
   "source": [
    "### Run "
   ]
  },
  {
   "cell_type": "code",
   "execution_count": 9,
   "id": "51d27bfc",
   "metadata": {},
   "outputs": [
    {
     "name": "stdout",
     "output_type": "stream",
     "text": [
      "The answer to the sudoku puzzle:\n",
      "8|2|6|9|3|5|1|4|7\n",
      "__________________\n",
      "4|1|7|6|8|2|9|5|3\n",
      "__________________\n",
      "9|5|3|1|7|4|8|2|6\n",
      "__________________\n",
      "7|9|4|8|2|1|6|3|5\n",
      "__________________\n",
      "5|6|8|3|4|7|2|9|1\n",
      "__________________\n",
      "1|3|2|5|6|9|4|7|8\n",
      "__________________\n",
      "3|4|1|2|5|8|7|6|9\n",
      "__________________\n",
      "2|8|5|7|9|6|3|1|4\n",
      "__________________\n",
      "6|7|9|4|1|3|5|8|2\n",
      "Time: 52.550755739212036\n",
      "Gen: 13 Score: 243\n"
     ]
    }
   ],
   "source": [
    "fileNames = [\"Test1.txt\", \"Test2.txt\"]\n",
    "\n",
    "def print_table(table):\n",
    "    \n",
    "    print(\"The answer to the sudoku puzzle:\")\n",
    "    \n",
    "    for i in range(len(table)):\n",
    "        print(*table[i] , sep='|')\n",
    "        if i != 8:\n",
    "            print(\"__________________\")\n",
    "        \n",
    "    t2 = time.time()\n",
    "    \n",
    "    print(\"Time:\", t2-t1)\n",
    "    \n",
    "    return\n",
    "      \n",
    "t1 = time.time()\n",
    "\n",
    "solve(fileNames[0])"
   ]
  },
  {
   "cell_type": "code",
   "execution_count": 10,
   "id": "c30798af",
   "metadata": {},
   "outputs": [
    {
     "name": "stdout",
     "output_type": "stream",
     "text": [
      "The answer to the sudoku puzzle:\n",
      "9|6|8|2|5|3|4|7|1\n",
      "__________________\n",
      "4|7|5|1|9|6|3|8|2\n",
      "__________________\n",
      "3|1|2|4|8|7|6|9|5\n",
      "__________________\n",
      "2|5|1|9|4|8|7|6|3\n",
      "__________________\n",
      "7|9|3|6|2|5|8|1|4\n",
      "__________________\n",
      "8|4|6|3|7|1|2|5|9\n",
      "__________________\n",
      "1|8|7|5|3|2|9|4|6\n",
      "__________________\n",
      "6|2|9|8|1|4|5|3|7\n",
      "__________________\n",
      "5|3|4|7|6|9|1|2|8\n",
      "Time: 49.86729335784912\n",
      "Gen: 21 Score: 243\n"
     ]
    }
   ],
   "source": [
    "board = []\n",
    "t1 = time.time()\n",
    "solve(fileNames[1])"
   ]
  },
  {
   "cell_type": "markdown",
   "id": "27967500",
   "metadata": {},
   "source": [
    "### Questions"
   ]
  },
  {
   "cell_type": "markdown",
   "id": "3599f9ec",
   "metadata": {},
   "source": [
    "#### 1) With the possibility of pc, we select two parents and use uniform crossover, which works randomly. Thus, we can expect to produce a better chromozome after selecting populations with higher fitness scores in each series.\n",
    "\n",
    "#### 2) We select the chromosomes that have the highest score because the higher the score, the closer it is to the final result. If the table values are unique, the score will be higher\n",
    "\n",
    "#### 3) Crossover of parents with high fitness makes better children chromosomes. Actually crossover helps the chromoseomes get better.                       \n",
    "#### By probabilty PM, each gene is altered a bit by mutation. It normally has a smaller impact than crossover.\n",
    "\n",
    "#### 4) There are several things we can do: for example reset the program if the score does not change after 20 attempts or every time the score remains the same, add 0.01 to Pm and Pc"
   ]
  }
 ],
 "metadata": {
  "kernelspec": {
   "display_name": "Python 3 (ipykernel)",
   "language": "python",
   "name": "python3"
  },
  "language_info": {
   "codemirror_mode": {
    "name": "ipython",
    "version": 3
   },
   "file_extension": ".py",
   "mimetype": "text/x-python",
   "name": "python",
   "nbconvert_exporter": "python",
   "pygments_lexer": "ipython3",
   "version": "3.8.5"
  }
 },
 "nbformat": 4,
 "nbformat_minor": 5
}
